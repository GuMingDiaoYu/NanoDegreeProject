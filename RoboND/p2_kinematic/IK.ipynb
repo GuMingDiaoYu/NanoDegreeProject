{
 "cells": [
  {
   "cell_type": "markdown",
   "metadata": {},
   "source": [
    "## IK_debug\n",
    "walk-through: https://www.youtube.com/watch?v=Gt8DRm-REt4"
   ]
  },
  {
   "cell_type": "markdown",
   "metadata": {},
   "source": [
    "**because tf is 1.0 for mac, but 1.10 for linux. So tf doesn't work here**"
   ]
  },
  {
   "cell_type": "code",
   "execution_count": 18,
   "metadata": {
    "collapsed": true
   },
   "outputs": [],
   "source": [
    "from sympy import *\n",
    "from time import time\n",
    "from mpmath import radians\n",
    "\n",
    "'''\n",
    "Format of test case is [ [[EE position],[EE orientation as quaternions]],[WC location],[joint angles]]\n",
    "You can generate additional test cases by setting up your kuka project and running `$ roslaunch kuka_arm forward_kinematics.launch`\n",
    "From here you can adjust the joint angles to find thetas, use the gripper to extract positions and orientation (in quaternion xyzw) and lastly use link 5\n",
    "to find the position of the wrist center. These newly generated test cases can be added to the test_cases dictionary.\n",
    "'''\n",
    "\n",
    "test_cases = {1:[[[2.16135,-1.42635,1.55109],\n",
    "                  [0.708611,0.186356,-0.157931,0.661967]],\n",
    "                  [1.89451,-1.44302,1.69366],\n",
    "                  [-0.65,0.45,-0.36,0.95,0.79,0.49]],\n",
    "              2:[[[-0.56754,0.93663,3.0038],\n",
    "                  [0.62073, 0.48318,0.38759,0.480629]],\n",
    "                  [-0.638,0.64198,2.9988],\n",
    "                  [-0.79,-0.11,-2.33,1.94,1.14,-3.68]],\n",
    "              3:[[[-1.3863,0.02074,0.90986],\n",
    "                  [0.01735,-0.2179,0.9025,0.371016]],\n",
    "                  [-1.1669,-0.17989,0.85137],\n",
    "                  [-2.99,-0.12,0.94,4.06,1.29,-4.12]],\n",
    "              4:[],\n",
    "              5:[]}"
   ]
  },
  {
   "cell_type": "code",
   "execution_count": 19,
   "metadata": {
    "collapsed": true
   },
   "outputs": [],
   "source": [
    "test_case = test_cases[1]\n",
    "class Position:\n",
    "    def __init__(self,EE_pos):\n",
    "        self.x = EE_pos[0]\n",
    "        self.y = EE_pos[1]\n",
    "        self.z = EE_pos[2]\n",
    "class Orientation:\n",
    "    def __init__(self,EE_ori):\n",
    "        self.x = EE_ori[0]\n",
    "        self.y = EE_ori[1]\n",
    "        self.z = EE_ori[2]\n",
    "        self.w = EE_ori[3]\n",
    "\n",
    "position = Position(test_case[0][0])\n",
    "orientation = Orientation(test_case[0][1])\n",
    "\n",
    "class Combine:\n",
    "    def __init__(self,position,orientation):\n",
    "        self.position = position\n",
    "        self.orientation = orientation\n",
    "\n",
    "comb = Combine(position,orientation)\n",
    "\n",
    "class Pose:\n",
    "    def __init__(self,comb):\n",
    "        self.poses = [comb]\n",
    "\n",
    "req = Pose(comb)"
   ]
  },
  {
   "cell_type": "markdown",
   "metadata": {},
   "source": [
    "![](https://d17h27t6h515a5.cloudfront.net/topher/2017/July/5975d719_fk/fk.png)"
   ]
  },
  {
   "cell_type": "code",
   "execution_count": 20,
   "metadata": {
    "collapsed": true
   },
   "outputs": [],
   "source": [
    "## Insert IK code here!\n",
    "d1, d2, d3, d4, d5, d6, d7 = symbols('d1:8') # link offset\n",
    "a0, a1, a2, a3, a4, a5, a6 = symbols('a0:7') # link length\n",
    "alpha0,alpha1,alpha2,alpha3,alpha4,alpha5,alpha6 = symbols('alpha0:7')# twist angle\n",
    "q1, q2, q3, q4, q5, q6, q7 = symbols('q1:8') # joint angle\n",
    "\n",
    "DH_Table = {alpha0:      0, a0:      0, d1: 0.75, q1: q1,\n",
    "            alpha1: -pi/2., a1:   0.35, d2:    0, q2: q2-pi/2,\n",
    "            alpha2:      0, a2:   1.25, d3:    0, q3: q3,\n",
    "            alpha3: -pi/2., a3: -0.054, d4:  1.5, q4: q4,\n",
    "            alpha4:  pi/2., a4:      0, d5:    0, q5: q5,\n",
    "            alpha5: -pi/2., a5:      0, d6:    0, q6: q6,\n",
    "            alpha6:      0, a6:      0, d7: 0.303, q7: 0}\n",
    "\n",
    "def TF_Matrix(alpha,a,d,q):\n",
    "    TF = Matrix([[cos(q), -sin(q), 0, a],\n",
    "        [sin(q)*cos(alpha),cos(q)*cos(alpha),-sin(alpha),-sin(alpha)*d], \n",
    "        [sin(q)*sin(alpha),cos(q)*sin(alpha), cos(alpha), cos(alpha)*d],\n",
    "                 [0, 0, 0,1]                  ])\n",
    "    return TF\n",
    "# create individual transformation matrices\n",
    "T0_1 = TF_Matrix(alpha0, a0,d1,q1).subs(DH_Table)\n",
    "T1_2 = TF_Matrix(alpha1, a1,d2,q2).subs(DH_Table)\n",
    "T2_3 = TF_Matrix(alpha2, a2,d3,q3).subs(DH_Table)\n",
    "T3_4 = TF_Matrix(alpha3, a3,d4,q4).subs(DH_Table)\n",
    "T4_5 = TF_Matrix(alpha4, a4,d5,q5).subs(DH_Table)\n",
    "T5_6 = TF_Matrix(alpha5, a5,d6,q6).subs(DH_Table)\n",
    "T6_EE = TF_Matrix(alpha6,a6,d7,q7).subs(DH_Table)\n",
    "\n",
    "T0_EE = T0_1*T1_2*T2_3*T3_4*T4_5*T5_6*T6_EE\n"
   ]
  },
  {
   "cell_type": "code",
   "execution_count": 21,
   "metadata": {
    "collapsed": false
   },
   "outputs": [
    {
     "data": {
      "text/plain": [
       "0.303"
      ]
     },
     "execution_count": 21,
     "metadata": {},
     "output_type": "execute_result"
    }
   ],
   "source": [
    "DH_Table[d7]"
   ]
  },
  {
   "cell_type": "markdown",
   "metadata": {},
   "source": [
    "![](https://d17h27t6h515a5.cloudfront.net/topher/2017/May/591e52e6_image-4/image-4.png)"
   ]
  },
  {
   "cell_type": "code",
   "execution_count": 27,
   "metadata": {
    "collapsed": false
   },
   "outputs": [
    {
     "name": "stdout",
     "output_type": "stream",
     "text": [
      "\n",
      "Wrist error for x position is: 0.00000741\n",
      "Wrist error for y position is: 0.00010423\n",
      "Wrist error for z position is: 0.00000291\n",
      "Overall wrist offset is: 0.00010453 units\n",
      "\n",
      "Theta 1 error is: 0.00090478\n",
      "Theta 2 error is: 0.00186833\n",
      "Theta 3 error is: 0.00196940\n",
      "Theta 4 error is: 2.12422542\n",
      "Theta 5 error is: 0.78882743\n",
      "Theta 6 error is: 0.47354599\n",
      "\n",
      "**These theta errors may not be a correct representation of your code, due to the fact        \n",
      "that the arm can have muliple positions. It is best to add your forward kinmeatics to        \n",
      "confirm whether your code is working or not**\n",
      " \n",
      "\n",
      "End effector error for x position is: 0.23574223\n",
      "End effector error for y position is: 0.01461822\n",
      "End effector error for z position is: 0.44399042\n",
      "Overall end effector offset is: 0.50290713 units \n",
      "\n"
     ]
    }
   ],
   "source": [
    "px = req.poses[0].position.x\n",
    "py = req.poses[0].position.y\n",
    "pz = req.poses[0].position.z\n",
    "\n",
    "#(roll,pitch,yaw) = tf.transformations.euler_from_quaternion(\n",
    "#[req.poses[0].orientation.x, req.poses[0].orientation.y,\n",
    "# req.poses[0].orientation.z, req.poses[0].orientation.w])\n",
    "roll,pitch,yaw = 1.6544, 0.4899,0.062\n",
    "\n",
    "r, p, y = symbols('r p y')\n",
    "\n",
    "ROT_x = Matrix([[1, 0, 0],\n",
    "               [0,cos(r),-sin(r)],\n",
    "               [0,sin(r),cos(r)]]) # Roll\n",
    "ROT_y = Matrix([[cos(p), 0, sin(p)],\n",
    "                [0,      1,   0],\n",
    "                [-sin(p),0,cos(p)]]) # pitch\n",
    "ROT_z = Matrix([[cos(y), -sin(y), 0],\n",
    "                [sin(y),  cos(y), 0],\n",
    "                [     0,       0, 1]]) # yaw\n",
    "ROT_EE = ROT_z *ROT_y * ROT_x\n",
    "\n",
    "Rot_Error = ROT_z.subs(y,radians(180)) *ROT_y.subs(p,radians(-90)) \n",
    "ROT_EE = ROT_EE *Rot_Error  # align the errors due to DH notation\n",
    "\n",
    "ROT_EE = ROT_EE.subs({'r':roll, 'p':pitch,'y':yaw})\n",
    "\n",
    "EE = Matrix([[px],\n",
    "            [py],\n",
    "            [pz]])\n",
    "WC = EE - DH_Table[d7]* ROT_EE[:,2]\n",
    "\n",
    "theta1 = atan2(WC[1],WC[0])\n",
    "\n",
    "side_a = 1.501\n",
    "side_b = sqrt(pow((sqrt(WC[0] *WC[0] + WC[1]*WC[1])-0.35),2) +\n",
    "                  pow((WC[2]-0.75),2))\n",
    "side_c = 1.25\n",
    "\n",
    "angle_a = acos((side_b*side_b + side_c*side_c -side_a*side_a)/(2*side_b*side_c))\n",
    "angle_b = acos((side_a*side_a + side_c*side_c -side_b*side_b)/(2*side_a*side_c))\n",
    "angle_c = acos((side_a*side_a + side_b*side_b -side_c*side_c)/(2*side_a*side_b))\n",
    "\n",
    "theta2 =  pi/2 - angle_a -atan2(WC[2] - 0.75, sqrt(WC[0] *WC[0] +WC[1]*WC[1]) - 0.35)\n",
    "theta3 =  pi/2 - (angle_b + 0.036)  # 0.036 is sag in link4 of -0.054m\n",
    "\n",
    "R0_3 = T0_1[0:3,0:3] * T1_2[0:3,0:3] * T2_3[0:3,0:3]\n",
    "R0_3 = R0_3.evalf(subs= {q1:theta1, q2:theta2, q3:theta3})\n",
    "\n",
    "R3_6 = R0_3.inv(\"LU\") * ROT_EE\n",
    "\n",
    "theta4 = atan2(R3_6[2,2], -R3_6[0,2])\n",
    "theta5 = atan2(sqrt(R3_6[0,2]*R3_6[0,2] + R3_6[2,2]*R3_6[2,2]),R3_6[1,2])\n",
    "theta6 = atan2(-R3_6[1,1],R3_6[1,0])\n",
    "\n",
    "## \n",
    "########################################################################################\n",
    "\n",
    "########################################################################################\n",
    "## For additional debugging add your forward kinematics here. Use your previously calculated thetas\n",
    "## as the input and output the position of your end effector as your_ee = [x,y,z]\n",
    "\n",
    "## (OPTIONAL) YOUR CODE HERE!\n",
    "FK = T0_EE.evalf(subs={q1:theta1, q2: theta2, q3:theta3, q4:theta4,\n",
    "                      q5:theta5, q6: theta6})\n",
    "## End your code input for forward kinematics here!\n",
    "########################################################################################\n",
    "\n",
    "## For error analysis please set the following variables of your WC location and EE location in the format of [x,y,z]\n",
    "your_wc = [WC[0],WC[1],WC[2]]\n",
    "your_ee = [FK[0,3],FK[1,3], FK[2,3]] # <--- Load your calculated end effector value from your forward kinematics\n",
    "########################################################################################\n",
    "\n",
    "## Error analysis\n",
    "#print (\"\\nTotal run time to calculate joint angles from pose is %04.4f seconds\" % (time()-start_time))\n",
    "\n",
    "# Find WC error\n",
    "if not(sum(your_wc)==3):\n",
    "    wc_x_e = abs(your_wc[0]-test_case[1][0])\n",
    "    wc_y_e = abs(your_wc[1]-test_case[1][1])\n",
    "    wc_z_e = abs(your_wc[2]-test_case[1][2])\n",
    "    wc_offset = sqrt(wc_x_e**2 + wc_y_e**2 + wc_z_e**2)\n",
    "    print (\"\\nWrist error for x position is: %04.8f\" % wc_x_e)\n",
    "    print (\"Wrist error for y position is: %04.8f\" % wc_y_e)\n",
    "    print (\"Wrist error for z position is: %04.8f\" % wc_z_e)\n",
    "    print (\"Overall wrist offset is: %04.8f units\" % wc_offset)\n",
    "\n",
    "# Find theta errors\n",
    "t_1_e = abs(theta1-test_case[2][0])\n",
    "t_2_e = abs(theta2-test_case[2][1])\n",
    "t_3_e = abs(theta3-test_case[2][2])\n",
    "t_4_e = abs(theta4-test_case[2][3])\n",
    "t_5_e = abs(theta5-test_case[2][4])\n",
    "t_6_e = abs(theta6-test_case[2][5])\n",
    "print (\"\\nTheta 1 error is: %04.8f\" % t_1_e)\n",
    "print (\"Theta 2 error is: %04.8f\" % t_2_e)\n",
    "print (\"Theta 3 error is: %04.8f\" % t_3_e)\n",
    "print (\"Theta 4 error is: %04.8f\" % t_4_e)\n",
    "print (\"Theta 5 error is: %04.8f\" % t_5_e)\n",
    "print (\"Theta 6 error is: %04.8f\" % t_6_e)\n",
    "print (\"\\n**These theta errors may not be a correct representation of your code, due to the fact \\\n",
    "       \\nthat the arm can have muliple positions. It is best to add your forward kinmeatics to \\\n",
    "       \\nconfirm whether your code is working or not**\")\n",
    "print (\" \")\n",
    "\n",
    "# Find FK EE error\n",
    "if not(sum(your_ee)==3):\n",
    "    ee_x_e = abs(your_ee[0]-test_case[0][0][0])\n",
    "    ee_y_e = abs(your_ee[1]-test_case[0][0][1])\n",
    "    ee_z_e = abs(your_ee[2]-test_case[0][0][2])\n",
    "    ee_offset = sqrt(ee_x_e**2 + ee_y_e**2 + ee_z_e**2)\n",
    "    print (\"\\nEnd effector error for x position is: %04.8f\" % ee_x_e)\n",
    "    print (\"End effector error for y position is: %04.8f\" % ee_y_e)\n",
    "    print (\"End effector error for z position is: %04.8f\" % ee_z_e)\n",
    "    print (\"Overall end effector offset is: %04.8f units \\n\" % ee_offset)\n"
   ]
  },
  {
   "cell_type": "code",
   "execution_count": null,
   "metadata": {
    "collapsed": true
   },
   "outputs": [],
   "source": []
  }
 ],
 "metadata": {
  "anaconda-cloud": {},
  "kernelspec": {
   "display_name": "Python [default]",
   "language": "python",
   "name": "python2"
  },
  "language_info": {
   "codemirror_mode": {
    "name": "ipython",
    "version": 2
   },
   "file_extension": ".py",
   "mimetype": "text/x-python",
   "name": "python",
   "nbconvert_exporter": "python",
   "pygments_lexer": "ipython2",
   "version": "2.7.13"
  }
 },
 "nbformat": 4,
 "nbformat_minor": 2
}
